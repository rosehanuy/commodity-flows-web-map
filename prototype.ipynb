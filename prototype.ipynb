{
 "cells": [
  {
   "cell_type": "code",
   "execution_count": 1,
   "metadata": {},
   "outputs": [],
   "source": [
    "from map_package.__init__ import create_app, db\n",
    "from map_package.models import Trip, Zone\n"
   ]
  },
  {
   "cell_type": "code",
   "execution_count": 2,
   "metadata": {},
   "outputs": [],
   "source": [
    "\n",
    "app = create_app()"
   ]
  },
  {
   "cell_type": "code",
   "execution_count": null,
   "metadata": {},
   "outputs": [],
   "source": [
    "from sqlalchemy import func\n",
    "with app.app_context():\n",
    "    # how many trips from each origin to each destination\n",
    "    z = db.session.query(Trip)\\\n",
    "        .with_entities(Trip.dms_orig,Trip.dms_dest,func.count(Trip.index))\\\n",
    "        .group_by(Trip.dms_orig,Trip.dms_dest).all()\n",
    "    \n",
    "    #t = db.session.query(Zone).filter_by(FAF_Zone=z[0]).first()\n",
    "\n",
    "\n",
    "z\n"
   ]
  },
  {
   "cell_type": "code",
   "execution_count": null,
   "metadata": {},
   "outputs": [],
   "source": [
    "import pandas as pd \n",
    "\n",
    "df = pd.DataFrame(z,columns=['origin','destination','num_trips'])"
   ]
  },
  {
   "cell_type": "code",
   "execution_count": 17,
   "metadata": {},
   "outputs": [],
   "source": [
    "with app.app_context():\n",
    "    z = db.session.query(Zone).all()"
   ]
  },
  {
   "cell_type": "code",
   "execution_count": 19,
   "metadata": {},
   "outputs": [],
   "source": [
    "zone_dict = {x.FAF_Zone : x.FAF_Zone_D for x in z}"
   ]
  },
  {
   "cell_type": "code",
   "execution_count": 20,
   "metadata": {},
   "outputs": [],
   "source": [
    "df['origin_name'] = df['origin'].map(zone_dict)\n",
    "df['destination_name'] = df['destination'].map(zone_dict)"
   ]
  },
  {
   "cell_type": "code",
   "execution_count": 36,
   "metadata": {},
   "outputs": [
    {
     "data": {
      "text/html": [
       "<div>\n",
       "<style scoped>\n",
       "    .dataframe tbody tr th:only-of-type {\n",
       "        vertical-align: middle;\n",
       "    }\n",
       "\n",
       "    .dataframe tbody tr th {\n",
       "        vertical-align: top;\n",
       "    }\n",
       "\n",
       "    .dataframe thead th {\n",
       "        text-align: right;\n",
       "    }\n",
       "</style>\n",
       "<table border=\"1\" class=\"dataframe\">\n",
       "  <thead>\n",
       "    <tr style=\"text-align: right;\">\n",
       "      <th></th>\n",
       "      <th>origin</th>\n",
       "      <th>destination</th>\n",
       "      <th>num_trips</th>\n",
       "      <th>origin_name</th>\n",
       "      <th>destination_name</th>\n",
       "    </tr>\n",
       "  </thead>\n",
       "  <tbody>\n",
       "    <tr>\n",
       "      <th>40</th>\n",
       "      <td>363</td>\n",
       "      <td>459</td>\n",
       "      <td>299</td>\n",
       "      <td>New York NY-NJ-CT-PA (NY Part)</td>\n",
       "      <td>Rest of SC</td>\n",
       "    </tr>\n",
       "    <tr>\n",
       "      <th>50</th>\n",
       "      <td>363</td>\n",
       "      <td>419</td>\n",
       "      <td>217</td>\n",
       "      <td>New York NY-NJ-CT-PA (NY Part)</td>\n",
       "      <td>Rest of OR</td>\n",
       "    </tr>\n",
       "    <tr>\n",
       "      <th>221</th>\n",
       "      <td>363</td>\n",
       "      <td>451</td>\n",
       "      <td>469</td>\n",
       "      <td>New York NY-NJ-CT-PA (NY Part)</td>\n",
       "      <td>Charleston SC</td>\n",
       "    </tr>\n",
       "    <tr>\n",
       "      <th>238</th>\n",
       "      <td>363</td>\n",
       "      <td>371</td>\n",
       "      <td>414</td>\n",
       "      <td>New York NY-NJ-CT-PA (NY Part)</td>\n",
       "      <td>Charlotte NC-SC (NC Part)</td>\n",
       "    </tr>\n",
       "    <tr>\n",
       "      <th>265</th>\n",
       "      <td>363</td>\n",
       "      <td>401</td>\n",
       "      <td>161</td>\n",
       "      <td>New York NY-NJ-CT-PA (NY Part)</td>\n",
       "      <td>Oklahoma City OK</td>\n",
       "    </tr>\n",
       "    <tr>\n",
       "      <th>...</th>\n",
       "      <td>...</td>\n",
       "      <td>...</td>\n",
       "      <td>...</td>\n",
       "      <td>...</td>\n",
       "      <td>...</td>\n",
       "    </tr>\n",
       "    <tr>\n",
       "      <th>16808</th>\n",
       "      <td>363</td>\n",
       "      <td>63</td>\n",
       "      <td>567</td>\n",
       "      <td>New York NY-NJ-CT-PA (NY Part)</td>\n",
       "      <td>San Diego CA</td>\n",
       "    </tr>\n",
       "    <tr>\n",
       "      <th>16847</th>\n",
       "      <td>363</td>\n",
       "      <td>222</td>\n",
       "      <td>107</td>\n",
       "      <td>New York NY-NJ-CT-PA (NY Part)</td>\n",
       "      <td>Lake Charles-Jennings LA</td>\n",
       "    </tr>\n",
       "    <tr>\n",
       "      <th>17102</th>\n",
       "      <td>363</td>\n",
       "      <td>311</td>\n",
       "      <td>161</td>\n",
       "      <td>New York NY-NJ-CT-PA (NY Part)</td>\n",
       "      <td>Omaha NE-IA (NE Part)</td>\n",
       "    </tr>\n",
       "    <tr>\n",
       "      <th>17120</th>\n",
       "      <td>363</td>\n",
       "      <td>411</td>\n",
       "      <td>248</td>\n",
       "      <td>New York NY-NJ-CT-PA (NY Part)</td>\n",
       "      <td>Portland OR-WA (OR Part)</td>\n",
       "    </tr>\n",
       "    <tr>\n",
       "      <th>17183</th>\n",
       "      <td>363</td>\n",
       "      <td>485</td>\n",
       "      <td>319</td>\n",
       "      <td>New York NY-NJ-CT-PA (NY Part)</td>\n",
       "      <td>El Paso TX-NM (TX Part)</td>\n",
       "    </tr>\n",
       "  </tbody>\n",
       "</table>\n",
       "<p>132 rows × 5 columns</p>\n",
       "</div>"
      ],
      "text/plain": [
       "       origin  destination  num_trips                     origin_name  \\\n",
       "40        363          459        299  New York NY-NJ-CT-PA (NY Part)   \n",
       "50        363          419        217  New York NY-NJ-CT-PA (NY Part)   \n",
       "221       363          451        469  New York NY-NJ-CT-PA (NY Part)   \n",
       "238       363          371        414  New York NY-NJ-CT-PA (NY Part)   \n",
       "265       363          401        161  New York NY-NJ-CT-PA (NY Part)   \n",
       "...       ...          ...        ...                             ...   \n",
       "16808     363           63        567  New York NY-NJ-CT-PA (NY Part)   \n",
       "16847     363          222        107  New York NY-NJ-CT-PA (NY Part)   \n",
       "17102     363          311        161  New York NY-NJ-CT-PA (NY Part)   \n",
       "17120     363          411        248  New York NY-NJ-CT-PA (NY Part)   \n",
       "17183     363          485        319  New York NY-NJ-CT-PA (NY Part)   \n",
       "\n",
       "                destination_name  \n",
       "40                    Rest of SC  \n",
       "50                    Rest of OR  \n",
       "221                Charleston SC  \n",
       "238    Charlotte NC-SC (NC Part)  \n",
       "265             Oklahoma City OK  \n",
       "...                          ...  \n",
       "16808               San Diego CA  \n",
       "16847   Lake Charles-Jennings LA  \n",
       "17102      Omaha NE-IA (NE Part)  \n",
       "17120   Portland OR-WA (OR Part)  \n",
       "17183    El Paso TX-NM (TX Part)  \n",
       "\n",
       "[132 rows x 5 columns]"
      ]
     },
     "execution_count": 36,
     "metadata": {},
     "output_type": "execute_result"
    }
   ],
   "source": [
    "df.loc[df.origin_name == \"New York NY-NJ-CT-PA (NY Part)\"]"
   ]
  }
 ],
 "metadata": {
  "kernelspec": {
   "display_name": "web-env",
   "language": "python",
   "name": "python3"
  },
  "language_info": {
   "codemirror_mode": {
    "name": "ipython",
    "version": 3
   },
   "file_extension": ".py",
   "mimetype": "text/x-python",
   "name": "python",
   "nbconvert_exporter": "python",
   "pygments_lexer": "ipython3",
   "version": "3.12.5"
  }
 },
 "nbformat": 4,
 "nbformat_minor": 2
}
